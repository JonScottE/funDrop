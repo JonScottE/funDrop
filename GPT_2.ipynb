{
 "cells": [
  {
   "cell_type": "code",
   "execution_count": 122,
   "id": "85a4e76f-a4c1-41ed-a457-8766c789922a",
   "metadata": {},
   "outputs": [
    {
     "name": "stderr",
     "output_type": "stream",
     "text": [
      "Setting `pad_token_id` to `eos_token_id`:50256 for open-end generation.\n"
     ]
    },
    {
     "data": {
      "text/plain": [
       "\"In conclusion, the NFT fundraising token funDrop will change the world, by letting humanity save humanity.\\n\\nWe'll look out for NFT in future announcements, and look forward to your feedback. Don't forget to join our social media accounts for the day, and tell your friends to help support the cause.\""
      ]
     },
     "execution_count": 122,
     "metadata": {},
     "output_type": "execute_result"
    }
   ],
   "source": [
    "# using GPT-2 to generate text\n",
    "# !pip install transformers\n",
    "# !pip install torch\n",
    "# Initialization\n",
    "\n",
    "import torch\n",
    "import pandas as pd\n",
    "from transformers import GPT2LMHeadModel, GPT2Tokenizer\n",
    "\n",
    "# initialize tokenizer and model from pretrained GPT2 model\n",
    "tokenizer = GPT2Tokenizer.from_pretrained('gpt2')\n",
    "model = GPT2LMHeadModel.from_pretrained('gpt2')\n",
    "\n",
    "# need to define sequence here\n",
    "sequence = ('In conclusion, the NFT fundraising token funDrop will change the world, by letting humanity save humanity')\n",
    "sequence \n",
    "\n",
    "inputs = tokenizer.encode(sequence, return_tensors='pt')\n",
    "\n",
    "outputs = model.generate(inputs, max_length=250, do_sample=True, temperature=1) # 1 - 5 temperature, 5 more random\n",
    "\n",
    "text = tokenizer.decode(outputs[0], skip_special_tokens=True)\n",
    "text"
   ]
  },
  {
   "cell_type": "code",
   "execution_count": 4,
   "id": "925db6e1-b798-496c-a3a3-7e24ba08fcbf",
   "metadata": {},
   "outputs": [],
   "source": []
  },
  {
   "cell_type": "code",
   "execution_count": 5,
   "id": "efdd57cf-edfc-4136-a669-23fb66f7a894",
   "metadata": {},
   "outputs": [],
   "source": []
  },
  {
   "cell_type": "code",
   "execution_count": 115,
   "id": "1ddcee97-6c20-45ff-923b-358223e5a074",
   "metadata": {},
   "outputs": [],
   "source": []
  },
  {
   "cell_type": "code",
   "execution_count": 117,
   "id": "334b0b0e-b87c-428a-89aa-4d6b65c1f0cf",
   "metadata": {},
   "outputs": [],
   "source": []
  },
  {
   "cell_type": "code",
   "execution_count": null,
   "id": "587c00e5-71c0-4fc6-b1b4-47aba5e4e39e",
   "metadata": {},
   "outputs": [],
   "source": []
  },
  {
   "cell_type": "code",
   "execution_count": null,
   "id": "51a076a3-ebb0-4746-b9cd-1c90ebf379ea",
   "metadata": {},
   "outputs": [],
   "source": []
  },
  {
   "cell_type": "code",
   "execution_count": null,
   "id": "d57e893c-93a7-4fda-b472-580a7e204286",
   "metadata": {},
   "outputs": [],
   "source": []
  },
  {
   "cell_type": "code",
   "execution_count": null,
   "id": "81624068-8deb-4fa4-98bb-836396409bee",
   "metadata": {},
   "outputs": [],
   "source": []
  }
 ],
 "metadata": {
  "kernelspec": {
   "display_name": "Python 3 (ipykernel)",
   "language": "python",
   "name": "python3"
  },
  "language_info": {
   "codemirror_mode": {
    "name": "ipython",
    "version": 3
   },
   "file_extension": ".py",
   "mimetype": "text/x-python",
   "name": "python",
   "nbconvert_exporter": "python",
   "pygments_lexer": "ipython3",
   "version": "3.9.7"
  }
 },
 "nbformat": 4,
 "nbformat_minor": 5
}
